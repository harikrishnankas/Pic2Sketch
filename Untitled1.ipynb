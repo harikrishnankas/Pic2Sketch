{
 "cells": [
  {
   "cell_type": "code",
   "execution_count": 1,
   "id": "ab1f08f1",
   "metadata": {},
   "outputs": [
    {
     "name": "stdout",
     "output_type": "stream",
     "text": [
      "Requirement already satisfied: opencv-python in c:\\users\\harikrishnan\\anaconda3\\lib\\site-packages (4.6.0.66)\n",
      "Requirement already satisfied: numpy>=1.14.5 in c:\\users\\harikrishnan\\anaconda3\\lib\\site-packages (from opencv-python) (1.20.3)\n"
     ]
    }
   ],
   "source": [
    "! pip install opencv-python"
   ]
  },
  {
   "cell_type": "code",
   "execution_count": 2,
   "id": "a4163b4d",
   "metadata": {},
   "outputs": [
    {
     "data": {
      "text/plain": [
       "True"
      ]
     },
     "execution_count": 2,
     "metadata": {},
     "output_type": "execute_result"
    }
   ],
   "source": [
    "import cv2\n",
    "x=int(input('sigma x and sigma y:'))\n",
    "details = int(input('detaling(default 256)'))\n",
    "pic = cv2.imread(\"IMG_6161.JPG\")\n",
    "grey_pic = cv2.cvtColor(pic , cv2.COLOR_BGR2GRAY)\n",
    "invert = cv2.bitwise_not(grey_pic)\n",
    "blur = cv2.GaussianBlur (invert, (x,x),2000)\n",
    "invt_blur = cv2.bitwise_not(blur)\n",
    "sketch = cv2.divide(grey_pic, invt_blur , scale = details)\n",
    "\n",
    "cv2.imwrite(\"sketch.png\",sketch)"
   ]
  },
  {
   "cell_type": "code",
   "execution_count": 4,
   "id": "f218089b",
   "metadata": {},
   "outputs": [],
   "source": [
    "import cv2\n",
    "  \n",
    "# Load the input image\n",
    "image = cv2.imread('DSC_0021.JPG')\n",
    "cv2.imshow('Original', image)\n",
    "cv2.waitKey(0)\n",
    "  \n",
    "# Use the cvtColor() function to grayscale the image\n",
    "gray_image = cv2.cvtColor(image, cv2.COLOR_BGR2GRAY)\n",
    "  \n",
    "cv2.imshow('Grayscale', gray_image)\n",
    "cv2.waitKey(0)  \n",
    "  \n",
    "# Window shown waits for any key pressing event\n",
    "cv2.destroyAllWindows()"
   ]
  },
  {
   "cell_type": "code",
   "execution_count": null,
   "id": "5bf8c708",
   "metadata": {},
   "outputs": [],
   "source": [
    "slider1_var = IntVar()\n",
    "slider1_var.set(22) \n",
    "slider_1 = Scale ( root, from_= 0, to_=200, orient=HORIZONTAL,variable=slider1_var)\n",
    "slider_1.pack()\n",
    "\n",
    "slider2_var = IntVar()\n",
    "slider2_var.set(22) \n",
    "slider_2 = Scale ( root, from_= 0, to_=200, orient=HORIZONTAL,variable=slider2_var)\n",
    "slider_2.pack()\n",
    "\n",
    "\n",
    "scale_x_y = slider_1.get()\n",
    "details = slider_2.get()\n",
    "\n",
    "pic = cv2.imread(\"IMG_6161.JPG\")\n",
    "grey_pic = cv2.cvtColor(pic , cv2.COLOR_BGR2GRAY)\n",
    "invert = cv2.bitwise_not(grey_pic)\n",
    "blur = cv2.GaussianBlur (invert, (scale_x_y,scale_x_y),2000)\n",
    "invt_blur = cv2.bitwise_not(blur)\n",
    "sketch = cv2.divide(grey_pic, invt_blur , scale = details)\n",
    "\n",
    "cv2.imwrite(\"sketch.png\",sketch)"
   ]
  }
 ],
 "metadata": {
  "kernelspec": {
   "display_name": "Python 3 (ipykernel)",
   "language": "python",
   "name": "python3"
  },
  "language_info": {
   "codemirror_mode": {
    "name": "ipython",
    "version": 3
   },
   "file_extension": ".py",
   "mimetype": "text/x-python",
   "name": "python",
   "nbconvert_exporter": "python",
   "pygments_lexer": "ipython3",
   "version": "3.9.7"
  }
 },
 "nbformat": 4,
 "nbformat_minor": 5
}
